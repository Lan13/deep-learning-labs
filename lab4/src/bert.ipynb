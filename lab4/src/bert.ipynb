{
 "cells": [
  {
   "cell_type": "code",
   "execution_count": 1,
   "metadata": {},
   "outputs": [],
   "source": [
    "import os\n",
    "device_ids = [0, 1, 2, 3, 4, 5]\n",
    "os.environ['CUDA_VISIBLE_DEVICES'] = '1, 2, 3, 4, 5, 6'"
   ]
  },
  {
   "cell_type": "code",
   "execution_count": 2,
   "metadata": {},
   "outputs": [],
   "source": [
    "%reload_ext autoreload\n",
    "%autoreload 2"
   ]
  },
  {
   "cell_type": "code",
   "execution_count": 3,
   "metadata": {},
   "outputs": [],
   "source": [
    "import copy\n",
    "import random\n",
    "import torch\n",
    "import torch.nn as nn\n",
    "import numpy as np\n",
    "import matplotlib.pyplot as plt\n",
    "\n",
    "from sklearn.model_selection import train_test_split\n",
    "from datas import *\n",
    "from funcs import *\n",
    "from models import *"
   ]
  },
  {
   "cell_type": "code",
   "execution_count": 4,
   "metadata": {},
   "outputs": [],
   "source": [
    "# Fix random seed for reproducibility\n",
    "same_seeds(1689)"
   ]
  },
  {
   "cell_type": "code",
   "execution_count": 5,
   "metadata": {},
   "outputs": [],
   "source": [
    "train_texts, train_labels = read_data(\"aclImdb/train\")\n",
    "test_texts, test_labels = read_data(\"aclImdb/test\")"
   ]
  },
  {
   "cell_type": "code",
   "execution_count": 6,
   "metadata": {},
   "outputs": [],
   "source": [
    "train_texts, val_texts, train_labels, val_labels = train_test_split(train_texts, train_labels, test_size=0.2, random_state=1689)"
   ]
  },
  {
   "cell_type": "code",
   "execution_count": 7,
   "metadata": {},
   "outputs": [],
   "source": [
    "from transformers import BertTokenizer\n",
    "tokenizer = BertTokenizer.from_pretrained('bert-base-uncased')"
   ]
  },
  {
   "cell_type": "code",
   "execution_count": 8,
   "metadata": {},
   "outputs": [],
   "source": [
    "# train_encodings = tokenizer(train_texts, truncation=True, padding=True)\n",
    "# test_encodings = tokenizer(test_texts, truncation=True, padding=True)\n",
    "# val_encodings = tokenizer(val_texts, truncation=True, padding=True)"
   ]
  },
  {
   "cell_type": "code",
   "execution_count": 9,
   "metadata": {},
   "outputs": [],
   "source": [
    "train_dataset = CustomTextDataset2(train_texts, train_labels, tokenizer)\n",
    "val_dataset = CustomTextDataset2(val_texts, val_labels, tokenizer)\n",
    "# test_dataset = CustomTextDataset2(test_texts, test_labels, tokenizer)"
   ]
  },
  {
   "cell_type": "code",
   "execution_count": 10,
   "metadata": {},
   "outputs": [],
   "source": [
    "# batch_size = 64\n",
    "# train_loader = DataLoader(train_dataset, batch_size=batch_size, shuffle=True)\n",
    "# val_loader = DataLoader(val_dataset, batch_size=batch_size)\n",
    "# test_loader = DataLoader(test_dataset, batch_size=batch_size)"
   ]
  },
  {
   "cell_type": "code",
   "execution_count": 11,
   "metadata": {},
   "outputs": [
    {
     "name": "stderr",
     "output_type": "stream",
     "text": [
      "Some weights of the model checkpoint at bert-base-uncased were not used when initializing BertModel: ['cls.predictions.transform.dense.bias', 'cls.seq_relationship.bias', 'cls.predictions.transform.LayerNorm.bias', 'cls.predictions.decoder.weight', 'cls.seq_relationship.weight', 'cls.predictions.transform.dense.weight', 'cls.predictions.bias', 'cls.predictions.transform.LayerNorm.weight']\n",
      "- This IS expected if you are initializing BertModel from the checkpoint of a model trained on another task or with another architecture (e.g. initializing a BertForSequenceClassification model from a BertForPreTraining model).\n",
      "- This IS NOT expected if you are initializing BertModel from the checkpoint of a model that you expect to be exactly identical (initializing a BertForSequenceClassification model from a BertForSequenceClassification model).\n"
     ]
    },
    {
     "data": {
      "application/vnd.jupyter.widget-view+json": {
       "model_id": "36ca27c3bbaa465493977449ed88c1c3",
       "version_major": 2,
       "version_minor": 0
      },
      "text/plain": [
       "  0%|          | 0/313 [00:00<?, ?it/s]"
      ]
     },
     "metadata": {},
     "output_type": "display_data"
    },
    {
     "name": "stdout",
     "output_type": "stream",
     "text": [
      "epcoh [1], train loss: [0.2477], train accuracy: [0.8887]\n",
      "epoch [1], valid loss: [0.1977], valid accuracy: [0.9244]\n"
     ]
    }
   ],
   "source": [
    "train_losses, train_accs, valid_losses, valid_accs = train_valid2(\n",
    "    BERTClassifier(), \n",
    "    train_dataset, val_dataset, device_ids, \n",
    "    lr=5e-5, n_epochs=1)"
   ]
  },
  {
   "cell_type": "code",
   "execution_count": 12,
   "metadata": {},
   "outputs": [],
   "source": [
    "# model = torch.nn.DataParallel(module=BERTClassifier()).to(device_ids[0])\n",
    "# optimizer = torch.optim.Adam(model.parameters(), lr=5e-5)\n",
    "# criterion = torch.nn.CrossEntropyLoss()"
   ]
  },
  {
   "cell_type": "code",
   "execution_count": 13,
   "metadata": {},
   "outputs": [],
   "source": [
    "# from tqdm.auto import tqdm\n",
    "\n",
    "# model.train()\n",
    "# train_loss = 0.0\n",
    "# train_acc = 0.0\n",
    "\n",
    "# for batch in tqdm(train_loader):\n",
    "#     input_ids = batch['input_ids'].to(device_ids[0])\n",
    "#     attention_mask = batch['attention_mask'].to(device_ids[0])\n",
    "#     labels = batch['labels'].to(device_ids[0])\n",
    "\n",
    "#     optimizer.zero_grad()\n",
    "\n",
    "#     outputs = model(input_ids=input_ids, attention_mask=attention_mask)\n",
    "#     loss = criterion(outputs, labels)\n",
    "#     loss.backward()\n",
    "#     optimizer.step()\n",
    "\n",
    "#     train_loss += loss.item() * input_ids.size(0)\n",
    "#     preds = torch.round(torch.sigmoid(outputs))\n",
    "#     _, predicted = torch.max(preds, dim=1)\n",
    "#     train_acc += torch.sum(predicted == labels)\n",
    "\n",
    "# epoch_train_loss = train_loss / len(train_loader.dataset)\n",
    "# epoch_train_acc = train_acc / len(train_loader.dataset)"
   ]
  },
  {
   "cell_type": "code",
   "execution_count": 14,
   "metadata": {},
   "outputs": [],
   "source": [
    "# print(f\"Training loss: {epoch_train_loss:.4f}, Training Accuracy: {epoch_train_acc:.4f}\")"
   ]
  },
  {
   "cell_type": "code",
   "execution_count": 15,
   "metadata": {},
   "outputs": [],
   "source": [
    "# val_loss = 0.0\n",
    "# val_acc = 0.0\n",
    "\n",
    "\n",
    "# model.eval()\n",
    "# for batch in tqdm(val_loader):\n",
    "#     with torch.no_grad():\n",
    "#         input_ids = batch['input_ids'].to(device_ids[0])\n",
    "#         attention_mask = batch['attention_mask'].to(device_ids[0])\n",
    "#         labels = batch['labels'].to(device_ids[0])\n",
    "#         outputs = model(input_ids=input_ids, attention_mask=attention_mask).squeeze(1)\n",
    "#         loss = criterion(outputs, labels)\n",
    "#         val_loss += loss.item() * input_ids.size(0)\n",
    "#         preds = torch.round(torch.sigmoid(outputs))\n",
    "#         _, predicted = torch.max(preds, dim=1)\n",
    "#         val_acc += torch.sum(predicted == labels)\n",
    "# epoch_val_loss = val_loss / len(val_loader.dataset)\n",
    "# epoch_val_acc = val_acc / len(val_loader.dataset)"
   ]
  },
  {
   "cell_type": "code",
   "execution_count": 16,
   "metadata": {},
   "outputs": [],
   "source": [
    "# print(f\"Validation loss: {epoch_val_loss:.4f}, Validation Accuracy: {epoch_val_acc:.4f}\")"
   ]
  }
 ],
 "metadata": {
  "kernelspec": {
   "display_name": "torch_env",
   "language": "python",
   "name": "python3"
  },
  "language_info": {
   "codemirror_mode": {
    "name": "ipython",
    "version": 3
   },
   "file_extension": ".py",
   "mimetype": "text/x-python",
   "name": "python",
   "nbconvert_exporter": "python",
   "pygments_lexer": "ipython3",
   "version": "3.10.9"
  },
  "orig_nbformat": 4
 },
 "nbformat": 4,
 "nbformat_minor": 2
}
