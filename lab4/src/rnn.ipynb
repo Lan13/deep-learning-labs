{
 "cells": [
  {
   "cell_type": "code",
   "execution_count": 1,
   "metadata": {},
   "outputs": [],
   "source": [
    "import os \n",
    "os.environ['CUDA_VISIBLE_DEVICES'] = '1'"
   ]
  },
  {
   "cell_type": "code",
   "execution_count": 2,
   "metadata": {},
   "outputs": [],
   "source": [
    "%reload_ext autoreload\n",
    "%autoreload 2"
   ]
  },
  {
   "cell_type": "code",
   "execution_count": 3,
   "metadata": {},
   "outputs": [],
   "source": [
    "from funcs import *\n",
    "from datas import *\n",
    "from models import *\n",
    "from torchtext.data.utils import get_tokenizer\n",
    "from torchtext.vocab import Vocab, GloVe\n",
    "from collections import Counter"
   ]
  },
  {
   "cell_type": "code",
   "execution_count": 4,
   "metadata": {},
   "outputs": [
    {
     "name": "stdout",
     "output_type": "stream",
     "text": [
      "cuda\n"
     ]
    }
   ],
   "source": [
    "device = \"cuda\" if torch.cuda.is_available() else \"cpu\"\n",
    "print(device)\n",
    "\n",
    "# Fix random seed for reproducibility\n",
    "same_seeds(1689)"
   ]
  },
  {
   "cell_type": "code",
   "execution_count": 5,
   "metadata": {},
   "outputs": [],
   "source": [
    "train_texts, train_labels = read_data(\"aclImdb/train\")\n",
    "test_texts, test_labels = read_data(\"aclImdb/test\")"
   ]
  },
  {
   "cell_type": "code",
   "execution_count": 7,
   "metadata": {},
   "outputs": [],
   "source": [
    "tokenizer = get_tokenizer('basic_english')\n",
    "tokenized_texts = [tokenizer(text) for text in train_texts]\n",
    "vectors = GloVe(name='6B', dim=100)\n",
    "\n",
    "# Count the frequency of each token in the text data\n",
    "counter = Counter(token for text in tokenized_texts for token in text)\n",
    "specials = ['<unk>', '<pad>', '<bos>', '<eos>']\n",
    "vocab = Vocab(counter, vectors=vectors, specials=specials)"
   ]
  },
  {
   "cell_type": "code",
   "execution_count": 8,
   "metadata": {},
   "outputs": [],
   "source": [
    "dataset = CustomTextDataset1(train_texts, train_labels, vocab, tokenizer)\n",
    "train_size = int(len(dataset) * 0.8)\n",
    "val_size = len(dataset) - train_size\n",
    "train_dataset, val_dataset = random_split(dataset, [train_size, val_size])"
   ]
  },
  {
   "cell_type": "code",
   "execution_count": 42,
   "metadata": {},
   "outputs": [
    {
     "data": {
      "application/vnd.jupyter.widget-view+json": {
       "model_id": "f02c21c6cda34e12a11c5198df71004a",
       "version_major": 2,
       "version_minor": 0
      },
      "text/plain": [
       "  0%|          | 0/313 [00:00<?, ?it/s]"
      ]
     },
     "metadata": {},
     "output_type": "display_data"
    },
    {
     "name": "stdout",
     "output_type": "stream",
     "text": [
      "epcoh [1], train loss: [0.0102], train accuracy: [0.6177]\n",
      "epoch [1], valid loss: [0.0091], valid accuracy: [0.7152]\n"
     ]
    },
    {
     "data": {
      "application/vnd.jupyter.widget-view+json": {
       "model_id": "a280d7f35886487db171155457dc1731",
       "version_major": 2,
       "version_minor": 0
      },
      "text/plain": [
       "  0%|          | 0/313 [00:00<?, ?it/s]"
      ]
     },
     "metadata": {},
     "output_type": "display_data"
    },
    {
     "name": "stdout",
     "output_type": "stream",
     "text": [
      "epcoh [2], train loss: [0.0095], train accuracy: [0.6891]\n",
      "epoch [2], valid loss: [0.0086], valid accuracy: [0.7494]\n"
     ]
    },
    {
     "data": {
      "application/vnd.jupyter.widget-view+json": {
       "model_id": "28312f85a2744cde87e48955e2332fcb",
       "version_major": 2,
       "version_minor": 0
      },
      "text/plain": [
       "  0%|          | 0/313 [00:00<?, ?it/s]"
      ]
     },
     "metadata": {},
     "output_type": "display_data"
    },
    {
     "name": "stdout",
     "output_type": "stream",
     "text": [
      "epcoh [3], train loss: [0.0076], train accuracy: [0.7859]\n",
      "epoch [3], valid loss: [0.0070], valid accuracy: [0.8108]\n"
     ]
    },
    {
     "data": {
      "application/vnd.jupyter.widget-view+json": {
       "model_id": "6068d67a941f476f9bdb10215a962fc1",
       "version_major": 2,
       "version_minor": 0
      },
      "text/plain": [
       "  0%|          | 0/313 [00:00<?, ?it/s]"
      ]
     },
     "metadata": {},
     "output_type": "display_data"
    },
    {
     "name": "stdout",
     "output_type": "stream",
     "text": [
      "epcoh [4], train loss: [0.0063], train accuracy: [0.8274]\n",
      "epoch [4], valid loss: [0.0060], valid accuracy: [0.8418]\n"
     ]
    },
    {
     "data": {
      "application/vnd.jupyter.widget-view+json": {
       "model_id": "5731935793114bb2864ac33b23d29509",
       "version_major": 2,
       "version_minor": 0
      },
      "text/plain": [
       "  0%|          | 0/313 [00:00<?, ?it/s]"
      ]
     },
     "metadata": {},
     "output_type": "display_data"
    },
    {
     "name": "stdout",
     "output_type": "stream",
     "text": [
      "epcoh [5], train loss: [0.0059], train accuracy: [0.8397]\n",
      "epoch [5], valid loss: [0.0058], valid accuracy: [0.8474]\n"
     ]
    },
    {
     "data": {
      "application/vnd.jupyter.widget-view+json": {
       "model_id": "de8f4570641147b89a5de5ebcb15c191",
       "version_major": 2,
       "version_minor": 0
      },
      "text/plain": [
       "  0%|          | 0/313 [00:00<?, ?it/s]"
      ]
     },
     "metadata": {},
     "output_type": "display_data"
    },
    {
     "name": "stdout",
     "output_type": "stream",
     "text": [
      "epcoh [6], train loss: [0.0054], train accuracy: [0.8582]\n",
      "epoch [6], valid loss: [0.0054], valid accuracy: [0.8538]\n"
     ]
    },
    {
     "data": {
      "application/vnd.jupyter.widget-view+json": {
       "model_id": "1b74806e5a6e450f82f0c2640d021931",
       "version_major": 2,
       "version_minor": 0
      },
      "text/plain": [
       "  0%|          | 0/313 [00:00<?, ?it/s]"
      ]
     },
     "metadata": {},
     "output_type": "display_data"
    },
    {
     "name": "stdout",
     "output_type": "stream",
     "text": [
      "epcoh [7], train loss: [0.0050], train accuracy: [0.8678]\n",
      "epoch [7], valid loss: [0.0053], valid accuracy: [0.8630]\n"
     ]
    },
    {
     "data": {
      "application/vnd.jupyter.widget-view+json": {
       "model_id": "c5059b18bed34b8abefb6216aeca219b",
       "version_major": 2,
       "version_minor": 0
      },
      "text/plain": [
       "  0%|          | 0/313 [00:00<?, ?it/s]"
      ]
     },
     "metadata": {},
     "output_type": "display_data"
    },
    {
     "name": "stdout",
     "output_type": "stream",
     "text": [
      "epcoh [8], train loss: [0.0049], train accuracy: [0.8711]\n",
      "epoch [8], valid loss: [0.0051], valid accuracy: [0.8632]\n"
     ]
    },
    {
     "data": {
      "application/vnd.jupyter.widget-view+json": {
       "model_id": "4a6881084b414395a541da4e3b073665",
       "version_major": 2,
       "version_minor": 0
      },
      "text/plain": [
       "  0%|          | 0/313 [00:00<?, ?it/s]"
      ]
     },
     "metadata": {},
     "output_type": "display_data"
    },
    {
     "name": "stdout",
     "output_type": "stream",
     "text": [
      "epcoh [9], train loss: [0.0046], train accuracy: [0.8808]\n",
      "epoch [9], valid loss: [0.0051], valid accuracy: [0.8720]\n"
     ]
    },
    {
     "data": {
      "application/vnd.jupyter.widget-view+json": {
       "model_id": "f78b7daf94264d16bc72ab42a7fb469b",
       "version_major": 2,
       "version_minor": 0
      },
      "text/plain": [
       "  0%|          | 0/313 [00:00<?, ?it/s]"
      ]
     },
     "metadata": {},
     "output_type": "display_data"
    },
    {
     "name": "stdout",
     "output_type": "stream",
     "text": [
      "epcoh [10], train loss: [0.0044], train accuracy: [0.8863]\n",
      "epoch [10], valid loss: [0.0053], valid accuracy: [0.8588]\n"
     ]
    }
   ],
   "source": [
    "pretrained_embeddings = vocab.vectors\n",
    "train_losses, train_accs, valid_losses, valid_accs = train_valid1(\n",
    "    LSTMClassifier(vocab_size=len(vocab), embedding_dim=100, hidden_dim=64, num_classes=2, \n",
    "                   num_layers=2, bidirectional=True, dropout=0.5, \n",
    "                   pretrained_embeddings=pretrained_embeddings), \n",
    "    train_dataset, val_dataset, lr=1e-3, n_epochs=10)"
   ]
  },
  {
   "cell_type": "code",
   "execution_count": 46,
   "metadata": {},
   "outputs": [
    {
     "data": {
      "image/png": "[encoded data removed]",
      "text/plain": [
       "<Figure size 1200x500 with 2 Axes>"
      ]
     },
     "metadata": {},
     "output_type": "display_data"
    }
   ],
   "source": [
    "show_process(train_losses, train_accs, valid_losses, valid_accs, \"Valid\")"
   ]
  },
  {
   "attachments": {},
   "cell_type": "markdown",
   "metadata": {},
   "source": [
    "# Parameters Tuning"
   ]
  },
  {
   "cell_type": "code",
   "execution_count": 13,
   "metadata": {},
   "outputs": [
    {
     "data": {
      "application/vnd.jupyter.widget-view+json": {
       "model_id": "da677018301949109ae52b5225a5fd2c",
       "version_major": 2,
       "version_minor": 0
      },
      "text/plain": [
       "  0%|          | 0/313 [00:00<?, ?it/s]"
      ]
     },
     "metadata": {},
     "output_type": "display_data"
    },
    {
     "name": "stdout",
     "output_type": "stream",
     "text": [
      "epcoh [1], train loss: [0.0108], train accuracy: [0.5372]\n",
      "epoch [1], valid loss: [0.0109], valid accuracy: [0.4972]\n"
     ]
    },
    {
     "data": {
      "application/vnd.jupyter.widget-view+json": {
       "model_id": "326c5146f1554f20bb594f30327d67bd",
       "version_major": 2,
       "version_minor": 0
      },
      "text/plain": [
       "  0%|          | 0/313 [00:00<?, ?it/s]"
      ]
     },
     "metadata": {},
     "output_type": "display_data"
    },
    {
     "name": "stdout",
     "output_type": "stream",
     "text": [
      "epcoh [2], train loss: [0.0104], train accuracy: [0.5809]\n",
      "epoch [2], valid loss: [0.0098], valid accuracy: [0.6658]\n"
     ]
    },
    {
     "data": {
      "application/vnd.jupyter.widget-view+json": {
       "model_id": "40acb149b28244f5b06866dce60e11ba",
       "version_major": 2,
       "version_minor": 0
      },
      "text/plain": [
       "  0%|          | 0/313 [00:00<?, ?it/s]"
      ]
     },
     "metadata": {},
     "output_type": "display_data"
    },
    {
     "name": "stdout",
     "output_type": "stream",
     "text": [
      "epcoh [3], train loss: [0.0104], train accuracy: [0.5865]\n",
      "epoch [3], valid loss: [0.0110], valid accuracy: [0.4972]\n"
     ]
    },
    {
     "data": {
      "application/vnd.jupyter.widget-view+json": {
       "model_id": "97707676f4694db18c0e1ceddb9d21e2",
       "version_major": 2,
       "version_minor": 0
      },
      "text/plain": [
       "  0%|          | 0/313 [00:00<?, ?it/s]"
      ]
     },
     "metadata": {},
     "output_type": "display_data"
    },
    {
     "name": "stdout",
     "output_type": "stream",
     "text": [
      "epcoh [4], train loss: [0.0103], train accuracy: [0.5989]\n",
      "epoch [4], valid loss: [0.0106], valid accuracy: [0.6668]\n"
     ]
    },
    {
     "data": {
      "application/vnd.jupyter.widget-view+json": {
       "model_id": "dda7beb2edc54e79b565133007f288fa",
       "version_major": 2,
       "version_minor": 0
      },
      "text/plain": [
       "  0%|          | 0/313 [00:00<?, ?it/s]"
      ]
     },
     "metadata": {},
     "output_type": "display_data"
    },
    {
     "name": "stdout",
     "output_type": "stream",
     "text": [
      "epcoh [5], train loss: [0.0083], train accuracy: [0.7430]\n",
      "epoch [5], valid loss: [0.0079], valid accuracy: [0.7580]\n"
     ]
    },
    {
     "data": {
      "application/vnd.jupyter.widget-view+json": {
       "model_id": "a7e8f2d25ccc4989ab04978bfd9a56e9",
       "version_major": 2,
       "version_minor": 0
      },
      "text/plain": [
       "  0%|          | 0/313 [00:00<?, ?it/s]"
      ]
     },
     "metadata": {},
     "output_type": "display_data"
    },
    {
     "name": "stdout",
     "output_type": "stream",
     "text": [
      "epcoh [6], train loss: [0.0071], train accuracy: [0.7984]\n",
      "epoch [6], valid loss: [0.0066], valid accuracy: [0.8186]\n"
     ]
    },
    {
     "data": {
      "application/vnd.jupyter.widget-view+json": {
       "model_id": "baa20e3550df49c68c20c5870ccc6759",
       "version_major": 2,
       "version_minor": 0
      },
      "text/plain": [
       "  0%|          | 0/313 [00:00<?, ?it/s]"
      ]
     },
     "metadata": {},
     "output_type": "display_data"
    },
    {
     "name": "stdout",
     "output_type": "stream",
     "text": [
      "epcoh [7], train loss: [0.0068], train accuracy: [0.8114]\n",
      "epoch [7], valid loss: [0.0063], valid accuracy: [0.8342]\n"
     ]
    },
    {
     "data": {
      "application/vnd.jupyter.widget-view+json": {
       "model_id": "2be5d70b82ec420aaf49d5b96275b007",
       "version_major": 2,
       "version_minor": 0
      },
      "text/plain": [
       "  0%|          | 0/313 [00:00<?, ?it/s]"
      ]
     },
     "metadata": {},
     "output_type": "display_data"
    },
    {
     "name": "stdout",
     "output_type": "stream",
     "text": [
      "epcoh [8], train loss: [0.0063], train accuracy: [0.8225]\n",
      "epoch [8], valid loss: [0.0063], valid accuracy: [0.8232]\n"
     ]
    },
    {
     "data": {
      "application/vnd.jupyter.widget-view+json": {
       "model_id": "02492185563d4018b77055f7770401ef",
       "version_major": 2,
       "version_minor": 0
      },
      "text/plain": [
       "  0%|          | 0/313 [00:00<?, ?it/s]"
      ]
     },
     "metadata": {},
     "output_type": "display_data"
    },
    {
     "name": "stdout",
     "output_type": "stream",
     "text": [
      "epcoh [9], train loss: [0.0058], train accuracy: [0.8411]\n",
      "epoch [9], valid loss: [0.0057], valid accuracy: [0.8572]\n"
     ]
    },
    {
     "data": {
      "application/vnd.jupyter.widget-view+json": {
       "model_id": "b71762da094446889f2a4d9055464479",
       "version_major": 2,
       "version_minor": 0
      },
      "text/plain": [
       "  0%|          | 0/313 [00:00<?, ?it/s]"
      ]
     },
     "metadata": {},
     "output_type": "display_data"
    },
    {
     "name": "stdout",
     "output_type": "stream",
     "text": [
      "epcoh [10], train loss: [0.0057], train accuracy: [0.8486]\n",
      "epoch [10], valid loss: [0.0052], valid accuracy: [0.8624]\n"
     ]
    }
   ],
   "source": [
    "pretrained_embeddings = vocab.vectors\n",
    "train_losses, train_accs, valid_losses, valid_accs = train_valid1(\n",
    "    LSTMClassifier(vocab_size=len(vocab), embedding_dim=100, hidden_dim=64, num_classes=2, \n",
    "                   num_layers=5, bidirectional=True, dropout=0.5, \n",
    "                   pretrained_embeddings=pretrained_embeddings), \n",
    "    train_dataset, val_dataset, lr=1e-3, n_epochs=10)"
   ]
  },
  {
   "cell_type": "code",
   "execution_count": 14,
   "metadata": {},
   "outputs": [
    {
     "data": {
      "image/png": "[encoded data removed]",
      "text/plain": [
       "<Figure size 1200x500 with 2 Axes>"
      ]
     },
     "metadata": {},
     "output_type": "display_data"
    }
   ],
   "source": [
    "show_process(train_losses, train_accs, valid_losses, valid_accs, \"Valid\")"
   ]
  },
  {
   "attachments": {},
   "cell_type": "markdown",
   "metadata": {},
   "source": [
    "# Train and Test"
   ]
  },
  {
   "cell_type": "code",
   "execution_count": 6,
   "metadata": {},
   "outputs": [],
   "source": [
    "lr = 1e-2\n",
    "embedding_dim = 300\n",
    "hidden_dim = 96 \n",
    "num_layers = 3\n",
    "bidirectional = True"
   ]
  },
  {
   "cell_type": "code",
   "execution_count": 7,
   "metadata": {},
   "outputs": [],
   "source": [
    "tokenizer = get_tokenizer('basic_english')\n",
    "tokenized_texts = [tokenizer(text) for text in train_texts]\n",
    "vectors = GloVe(name='6B', dim=embedding_dim)\n",
    "\n",
    "# Count the frequency of each token in the text data\n",
    "counter = Counter(token for text in tokenized_texts for token in text)\n",
    "specials = ['<unk>', '<pad>', '<bos>', '<eos>']\n",
    "vocab = Vocab(counter, vectors=vectors, specials=specials)\n",
    "\n",
    "dataset = CustomTextDataset1(train_texts, train_labels, vocab, tokenizer)"
   ]
  },
  {
   "cell_type": "code",
   "execution_count": 12,
   "metadata": {},
   "outputs": [
    {
     "data": {
      "application/vnd.jupyter.widget-view+json": {
       "model_id": "ff1c70d417d445f3a7ee699037dd8328",
       "version_major": 2,
       "version_minor": 0
      },
      "text/plain": [
       "  0%|          | 0/391 [00:00<?, ?it/s]"
      ]
     },
     "metadata": {},
     "output_type": "display_data"
    },
    {
     "name": "stdout",
     "output_type": "stream",
     "text": [
      "epcoh [1], train loss: [0.0083], train accuracy: [0.7370]\n"
     ]
    },
    {
     "data": {
      "application/vnd.jupyter.widget-view+json": {
       "model_id": "773de16c54f046638bd8d9b76ab87812",
       "version_major": 2,
       "version_minor": 0
      },
      "text/plain": [
       "  0%|          | 0/391 [00:00<?, ?it/s]"
      ]
     },
     "metadata": {},
     "output_type": "display_data"
    },
    {
     "name": "stdout",
     "output_type": "stream",
     "text": [
      "epcoh [2], train loss: [0.0058], train accuracy: [0.8486]\n"
     ]
    },
    {
     "data": {
      "application/vnd.jupyter.widget-view+json": {
       "model_id": "a7699762d7d84a778c59b70c0d0b1132",
       "version_major": 2,
       "version_minor": 0
      },
      "text/plain": [
       "  0%|          | 0/391 [00:00<?, ?it/s]"
      ]
     },
     "metadata": {},
     "output_type": "display_data"
    },
    {
     "name": "stdout",
     "output_type": "stream",
     "text": [
      "epcoh [3], train loss: [0.0050], train accuracy: [0.8718]\n"
     ]
    },
    {
     "data": {
      "application/vnd.jupyter.widget-view+json": {
       "model_id": "44f0ff38a2b54ce5ac307abf405dcac6",
       "version_major": 2,
       "version_minor": 0
      },
      "text/plain": [
       "  0%|          | 0/391 [00:00<?, ?it/s]"
      ]
     },
     "metadata": {},
     "output_type": "display_data"
    },
    {
     "name": "stdout",
     "output_type": "stream",
     "text": [
      "epcoh [4], train loss: [0.0047], train accuracy: [0.8870]\n"
     ]
    },
    {
     "data": {
      "application/vnd.jupyter.widget-view+json": {
       "model_id": "a807c1ef957146ddb16e7c7062fa5c43",
       "version_major": 2,
       "version_minor": 0
      },
      "text/plain": [
       "  0%|          | 0/391 [00:00<?, ?it/s]"
      ]
     },
     "metadata": {},
     "output_type": "display_data"
    },
    {
     "name": "stdout",
     "output_type": "stream",
     "text": [
      "epcoh [5], train loss: [0.0045], train accuracy: [0.8884]\n"
     ]
    },
    {
     "data": {
      "application/vnd.jupyter.widget-view+json": {
       "model_id": "06c6b8d3f2174038969220cfeb09e10b",
       "version_major": 2,
       "version_minor": 0
      },
      "text/plain": [
       "  0%|          | 0/391 [00:00<?, ?it/s]"
      ]
     },
     "metadata": {},
     "output_type": "display_data"
    },
    {
     "name": "stdout",
     "output_type": "stream",
     "text": [
      "epcoh [6], train loss: [0.0040], train accuracy: [0.9020]\n"
     ]
    },
    {
     "data": {
      "application/vnd.jupyter.widget-view+json": {
       "model_id": "92d14d8ca51e48d39e3ed68c69111de9",
       "version_major": 2,
       "version_minor": 0
      },
      "text/plain": [
       "  0%|          | 0/391 [00:00<?, ?it/s]"
      ]
     },
     "metadata": {},
     "output_type": "display_data"
    },
    {
     "name": "stdout",
     "output_type": "stream",
     "text": [
      "epcoh [7], train loss: [0.0038], train accuracy: [0.9067]\n"
     ]
    },
    {
     "data": {
      "application/vnd.jupyter.widget-view+json": {
       "model_id": "45432bbd4d114a28b3b024a5dc36c329",
       "version_major": 2,
       "version_minor": 0
      },
      "text/plain": [
       "  0%|          | 0/391 [00:00<?, ?it/s]"
      ]
     },
     "metadata": {},
     "output_type": "display_data"
    },
    {
     "name": "stdout",
     "output_type": "stream",
     "text": [
      "epcoh [8], train loss: [0.0037], train accuracy: [0.9130]\n"
     ]
    },
    {
     "data": {
      "application/vnd.jupyter.widget-view+json": {
       "model_id": "9e72965242334f0fa88608788c50b461",
       "version_major": 2,
       "version_minor": 0
      },
      "text/plain": [
       "  0%|          | 0/391 [00:00<?, ?it/s]"
      ]
     },
     "metadata": {},
     "output_type": "display_data"
    },
    {
     "name": "stdout",
     "output_type": "stream",
     "text": [
      "epcoh [9], train loss: [0.0034], train accuracy: [0.9224]\n"
     ]
    },
    {
     "data": {
      "application/vnd.jupyter.widget-view+json": {
       "model_id": "e6e08010048a4eedbc768342442310e4",
       "version_major": 2,
       "version_minor": 0
      },
      "text/plain": [
       "  0%|          | 0/391 [00:00<?, ?it/s]"
      ]
     },
     "metadata": {},
     "output_type": "display_data"
    },
    {
     "name": "stdout",
     "output_type": "stream",
     "text": [
      "epcoh [10], train loss: [0.0034], train accuracy: [0.9181]\n"
     ]
    },
    {
     "data": {
      "application/vnd.jupyter.widget-view+json": {
       "model_id": "aae8e3de35b647c0afd8ec08f4a88ab8",
       "version_major": 2,
       "version_minor": 0
      },
      "text/plain": [
       "  0%|          | 0/391 [00:00<?, ?it/s]"
      ]
     },
     "metadata": {},
     "output_type": "display_data"
    },
    {
     "name": "stdout",
     "output_type": "stream",
     "text": [
      "epcoh [11], train loss: [0.0034], train accuracy: [0.9192]\n"
     ]
    },
    {
     "data": {
      "application/vnd.jupyter.widget-view+json": {
       "model_id": "bda7645e10304a218e52afed1d05bb6e",
       "version_major": 2,
       "version_minor": 0
      },
      "text/plain": [
       "  0%|          | 0/391 [00:00<?, ?it/s]"
      ]
     },
     "metadata": {},
     "output_type": "display_data"
    },
    {
     "name": "stdout",
     "output_type": "stream",
     "text": [
      "epcoh [12], train loss: [0.0030], train accuracy: [0.9288]\n"
     ]
    },
    {
     "data": {
      "application/vnd.jupyter.widget-view+json": {
       "model_id": "964be524d7ea4438b23a1a4bb4b8ad9a",
       "version_major": 2,
       "version_minor": 0
      },
      "text/plain": [
       "  0%|          | 0/391 [00:00<?, ?it/s]"
      ]
     },
     "metadata": {},
     "output_type": "display_data"
    },
    {
     "name": "stdout",
     "output_type": "stream",
     "text": [
      "epcoh [13], train loss: [0.0029], train accuracy: [0.9325]\n"
     ]
    },
    {
     "data": {
      "application/vnd.jupyter.widget-view+json": {
       "model_id": "afab5dfbfb8f49afba28b24777f9cfb8",
       "version_major": 2,
       "version_minor": 0
      },
      "text/plain": [
       "  0%|          | 0/391 [00:00<?, ?it/s]"
      ]
     },
     "metadata": {},
     "output_type": "display_data"
    },
    {
     "name": "stdout",
     "output_type": "stream",
     "text": [
      "epcoh [14], train loss: [0.0028], train accuracy: [0.9353]\n"
     ]
    },
    {
     "data": {
      "application/vnd.jupyter.widget-view+json": {
       "model_id": "94b85d22775e442e8f76871c60b68e32",
       "version_major": 2,
       "version_minor": 0
      },
      "text/plain": [
       "  0%|          | 0/391 [00:00<?, ?it/s]"
      ]
     },
     "metadata": {},
     "output_type": "display_data"
    },
    {
     "name": "stdout",
     "output_type": "stream",
     "text": [
      "epcoh [15], train loss: [0.0026], train accuracy: [0.9413]\n"
     ]
    },
    {
     "data": {
      "application/vnd.jupyter.widget-view+json": {
       "model_id": "d12bed01f732490e993265c44415ebc8",
       "version_major": 2,
       "version_minor": 0
      },
      "text/plain": [
       "  0%|          | 0/391 [00:00<?, ?it/s]"
      ]
     },
     "metadata": {},
     "output_type": "display_data"
    },
    {
     "name": "stdout",
     "output_type": "stream",
     "text": [
      "epcoh [16], train loss: [0.0023], train accuracy: [0.9494]\n"
     ]
    },
    {
     "data": {
      "application/vnd.jupyter.widget-view+json": {
       "model_id": "82462c83d8e340e5bb27030126ec0411",
       "version_major": 2,
       "version_minor": 0
      },
      "text/plain": [
       "  0%|          | 0/391 [00:00<?, ?it/s]"
      ]
     },
     "metadata": {},
     "output_type": "display_data"
    },
    {
     "name": "stdout",
     "output_type": "stream",
     "text": [
      "epcoh [17], train loss: [0.0022], train accuracy: [0.9517]\n"
     ]
    },
    {
     "data": {
      "application/vnd.jupyter.widget-view+json": {
       "model_id": "b77110f2c76a4d9cb2d66c4cdbd47384",
       "version_major": 2,
       "version_minor": 0
      },
      "text/plain": [
       "  0%|          | 0/391 [00:00<?, ?it/s]"
      ]
     },
     "metadata": {},
     "output_type": "display_data"
    },
    {
     "name": "stdout",
     "output_type": "stream",
     "text": [
      "epcoh [18], train loss: [0.0022], train accuracy: [0.9518]\n"
     ]
    },
    {
     "data": {
      "application/vnd.jupyter.widget-view+json": {
       "model_id": "c39e491af95646aa8a8db40dbd5a6b13",
       "version_major": 2,
       "version_minor": 0
      },
      "text/plain": [
       "  0%|          | 0/391 [00:00<?, ?it/s]"
      ]
     },
     "metadata": {},
     "output_type": "display_data"
    },
    {
     "name": "stdout",
     "output_type": "stream",
     "text": [
      "epcoh [19], train loss: [0.0022], train accuracy: [0.9519]\n"
     ]
    },
    {
     "data": {
      "application/vnd.jupyter.widget-view+json": {
       "model_id": "c0ad67106389403c8f2002fe7fa94116",
       "version_major": 2,
       "version_minor": 0
      },
      "text/plain": [
       "  0%|          | 0/391 [00:00<?, ?it/s]"
      ]
     },
     "metadata": {},
     "output_type": "display_data"
    },
    {
     "name": "stdout",
     "output_type": "stream",
     "text": [
      "epcoh [20], train loss: [0.0019], train accuracy: [0.9594]\n"
     ]
    },
    {
     "data": {
      "application/vnd.jupyter.widget-view+json": {
       "model_id": "62c0723906f4494caa4822c532de4081",
       "version_major": 2,
       "version_minor": 0
      },
      "text/plain": [
       "  0%|          | 0/391 [00:00<?, ?it/s]"
      ]
     },
     "metadata": {},
     "output_type": "display_data"
    },
    {
     "name": "stdout",
     "output_type": "stream",
     "text": [
      "epcoh [21], train loss: [0.0018], train accuracy: [0.9616]\n"
     ]
    },
    {
     "data": {
      "application/vnd.jupyter.widget-view+json": {
       "model_id": "979a78c95a41467ebca54dd665d653f5",
       "version_major": 2,
       "version_minor": 0
      },
      "text/plain": [
       "  0%|          | 0/391 [00:00<?, ?it/s]"
      ]
     },
     "metadata": {},
     "output_type": "display_data"
    },
    {
     "name": "stdout",
     "output_type": "stream",
     "text": [
      "epcoh [22], train loss: [0.0017], train accuracy: [0.9636]\n"
     ]
    },
    {
     "data": {
      "application/vnd.jupyter.widget-view+json": {
       "model_id": "fc2d5da4000948ed87008d4ba018b8c8",
       "version_major": 2,
       "version_minor": 0
      },
      "text/plain": [
       "  0%|          | 0/391 [00:00<?, ?it/s]"
      ]
     },
     "metadata": {},
     "output_type": "display_data"
    },
    {
     "name": "stdout",
     "output_type": "stream",
     "text": [
      "epcoh [23], train loss: [0.0017], train accuracy: [0.9631]\n"
     ]
    },
    {
     "data": {
      "application/vnd.jupyter.widget-view+json": {
       "model_id": "f8997653b40745cc80f9b0468d2b35e2",
       "version_major": 2,
       "version_minor": 0
      },
      "text/plain": [
       "  0%|          | 0/391 [00:00<?, ?it/s]"
      ]
     },
     "metadata": {},
     "output_type": "display_data"
    },
    {
     "name": "stdout",
     "output_type": "stream",
     "text": [
      "epcoh [24], train loss: [0.0016], train accuracy: [0.9630]\n"
     ]
    },
    {
     "data": {
      "application/vnd.jupyter.widget-view+json": {
       "model_id": "56cd43bde64142a2a5f42709719ae429",
       "version_major": 2,
       "version_minor": 0
      },
      "text/plain": [
       "  0%|          | 0/391 [00:00<?, ?it/s]"
      ]
     },
     "metadata": {},
     "output_type": "display_data"
    },
    {
     "name": "stdout",
     "output_type": "stream",
     "text": [
      "epcoh [25], train loss: [0.0018], train accuracy: [0.9599]\n"
     ]
    }
   ],
   "source": [
    "device = torch.device(\"cuda\" if torch.cuda.is_available() else \"cpu\")\n",
    "pretrained_embeddings = vocab.vectors\n",
    "model = LSTMClassifier(vocab_size=len(vocab), embedding_dim=embedding_dim, hidden_dim=hidden_dim, \n",
    "                       num_classes=2, num_layers=num_layers, bidirectional=bidirectional, \n",
    "                       dropout=0.5, pretrained_embeddings=pretrained_embeddings)\n",
    "model.to(device)\n",
    "criterion = nn.CrossEntropyLoss()\n",
    "optimizer = torch.optim.Adam(model.parameters(), weight_decay=1e-5, lr=lr)\n",
    "scheduler = torch.optim.lr_scheduler.ExponentialLR(optimizer, gamma=0.98, last_epoch=-1)\n",
    "\n",
    "batch_size = 64\n",
    "n_epochs = 25\n",
    "# using training set and validation set to train the model\n",
    "train_loader = DataLoader(dataset, collate_fn=collate_batch, batch_size=batch_size, shuffle=True)\n",
    "\n",
    "train_losses = []\n",
    "train_accs = []\n",
    "\n",
    "for epoch in range(1, n_epochs + 1):\n",
    "    train_loss = 0\n",
    "    train_acc = 0\n",
    "\n",
    "    model.train()\n",
    "    for label, text in tqdm(train_loader):\n",
    "        optimizer.zero_grad()\n",
    "        outputs = model(text).squeeze(1).float()\n",
    "        loss = criterion(outputs, label.long())\n",
    "        \n",
    "        loss.backward()\n",
    "        optimizer.step()\n",
    "\n",
    "        train_loss += loss.item()\n",
    "        preds = torch.round(torch.sigmoid(outputs))\n",
    "        _, predicted = torch.max(preds, dim=1)\n",
    "        train_acc += torch.sum(predicted == label).item()\n",
    "    scheduler.step()\n",
    "\n",
    "    epoch_train_loss = train_loss / len(train_loader.dataset)\n",
    "    epoch_train_acc = train_acc / len(train_loader.dataset)\n",
    "    train_losses.append(epoch_train_loss)\n",
    "    train_accs.append(epoch_train_acc)\n",
    "    print(\"epcoh [%d], train loss: [%.4f], train accuracy: [%.4f]\" % (epoch, epoch_train_loss, epoch_train_acc))"
   ]
  },
  {
   "cell_type": "code",
   "execution_count": 13,
   "metadata": {},
   "outputs": [
    {
     "data": {
      "application/vnd.jupyter.widget-view+json": {
       "model_id": "b636f275f2764e9b8995c1665c31f480",
       "version_major": 2,
       "version_minor": 0
      },
      "text/plain": [
       "  0%|          | 0/391 [00:00<?, ?it/s]"
      ]
     },
     "metadata": {},
     "output_type": "display_data"
    },
    {
     "name": "stdout",
     "output_type": "stream",
     "text": [
      "test loss: [0.0062], test accuracy: [0.8798]\n"
     ]
    }
   ],
   "source": [
    "test_dataset = CustomTextDataset1(test_texts, test_labels, vocab, tokenizer)\n",
    "\n",
    "# Create a data loader for the test dataset\n",
    "test_loader = DataLoader(test_dataset, collate_fn=collate_batch, batch_size=batch_size, shuffle=False)\n",
    "\n",
    "test_loss = 0\n",
    "test_acc = 0\n",
    "model.eval()\n",
    "for label, text in tqdm(test_loader):\n",
    "    with torch.no_grad():\n",
    "        outputs = model(text)\n",
    "        loss = criterion(outputs, label.long())\n",
    "        \n",
    "        test_loss += loss.item()\n",
    "        preds = torch.round(torch.sigmoid(outputs))\n",
    "        _, predicted = torch.max(preds, dim=1)\n",
    "        test_acc += torch.sum(predicted == label).item()\n",
    "test_loss = test_loss / len(test_loader.dataset)\n",
    "test_acc = test_acc / len(test_loader.dataset)\n",
    "print(\"test loss: [%.4f], test accuracy: [%.4f]\" % (test_loss, test_acc))\n"
   ]
  },
  {
   "cell_type": "code",
   "execution_count": 14,
   "metadata": {},
   "outputs": [
    {
     "data": {
      "image/png": "[encoded data removed]",
      "text/plain": [
       "<Figure size 1200x500 with 2 Axes>"
      ]
     },
     "metadata": {},
     "output_type": "display_data"
    }
   ],
   "source": [
    "test_losses = [test_loss for _ in range(n_epochs)]\n",
    "test_accs = [test_acc for _ in range(n_epochs)]\n",
    "show_process(train_losses, train_accs, test_losses, test_accs, \"Test\") "
   ]
  }
 ],
 "metadata": {
  "kernelspec": {
   "display_name": "torch_env",
   "language": "python",
   "name": "python3"
  },
  "language_info": {
   "codemirror_mode": {
    "name": "ipython",
    "version": 3
   },
   "file_extension": ".py",
   "mimetype": "text/x-python",
   "name": "python",
   "nbconvert_exporter": "python",
   "pygments_lexer": "ipython3",
   "version": "3.10.9"
  },
  "orig_nbformat": 4
 },
 "nbformat": 4,
 "nbformat_minor": 2
}
